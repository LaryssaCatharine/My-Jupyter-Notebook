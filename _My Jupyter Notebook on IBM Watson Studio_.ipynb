{
 "cells": [
  {
   "cell_type": "markdown",
   "metadata": {
    "collapsed": true
   },
   "source": [
    "# My Jupyter Notebook on IBM Watson Studio\n",
    "Peer-graded Assignment: Create and Share Your Jupyter Notebook\n"
   ]
  },
  {
   "cell_type": "markdown",
   "metadata": {},
   "source": [
    "# Laryssa Catharine Freire da Silva\n",
    "My desired occupation is to work as a Data Scientist in Business Intelligence."
   ]
  },
  {
   "cell_type": "markdown",
   "metadata": {},
   "source": [
    "*I am interested in data science because I think data science is exciting and inspiring. I am really keen on this*"
   ]
  },
  {
   "cell_type": "markdown",
   "metadata": {},
   "source": [
    "### This code is supposed to print in the output a list"
   ]
  },
  {
   "cell_type": "code",
   "execution_count": 1,
   "metadata": {},
   "outputs": [
    {
     "name": "stdout",
     "output_type": "stream",
     "text": [
      "['Milk', 'Coffee', 'Bread', 'Butter']\n"
     ]
    }
   ],
   "source": [
    "list = [\"Milk\", \"Coffee\", \"Bread\", \"Butter\"]\n",
    "print(list)"
   ]
  },
  {
   "cell_type": "markdown",
   "metadata": {},
   "source": [
    "https://eu-de.dataplatform.cloud.ibm.com/analytics/notebooks/v2/095f71ba-81bb-431a-8be7-ca90f6a4267b?projectid=ee16195d-111c-48c6-9899-ceec13703951&context=cpdaas\n",
    "\n",
    "* My husband\n",
    "* My parents\n",
    "* My cat\n",
    "\n",
    "1. To be a Data Scientist\n",
    "2. To live abroad\n",
    "3. To be happy"
   ]
  }
 ],
 "metadata": {
  "kernelspec": {
   "display_name": "Python 3.9",
   "language": "python",
   "name": "python3"
  },
  "language_info": {
   "codemirror_mode": {
    "name": "ipython",
    "version": 3
   },
   "file_extension": ".py",
   "mimetype": "text/x-python",
   "name": "python",
   "nbconvert_exporter": "python",
   "pygments_lexer": "ipython3",
   "version": "3.9.12"
  }
 },
 "nbformat": 4,
 "nbformat_minor": 1
}
